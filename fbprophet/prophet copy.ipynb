{
 "metadata": {
  "language_info": {
   "codemirror_mode": {
    "name": "ipython",
    "version": 3
   },
   "file_extension": ".py",
   "mimetype": "text/x-python",
   "name": "python",
   "nbconvert_exporter": "python",
   "pygments_lexer": "ipython3",
   "version": "3.8.3-final"
  },
  "orig_nbformat": 2,
  "kernelspec": {
   "name": "python3",
   "display_name": "Python 3",
   "language": "python"
  }
 },
 "nbformat": 4,
 "nbformat_minor": 2,
 "cells": [
  {
   "cell_type": "code",
   "execution_count": 72,
   "metadata": {},
   "outputs": [],
   "source": [
    "# Python\n",
    "import pandas as pd\n",
    "import numpy as np\n",
    "from fbprophet import Prophet\n",
    "import matplotlib.pyplot as plt"
   ]
  },
  {
   "cell_type": "code",
   "execution_count": 68,
   "metadata": {},
   "outputs": [
    {
     "output_type": "execute_result",
     "data": {
      "text/plain": [
       "             ds       y\n",
       "742  2021-01-20  218.64\n",
       "743  2021-01-21  188.88\n",
       "744  2021-01-22  193.20\n",
       "745  2021-01-24  123.12\n",
       "746  2021-01-25  178.80"
      ],
      "text/html": "<div>\n<style scoped>\n    .dataframe tbody tr th:only-of-type {\n        vertical-align: middle;\n    }\n\n    .dataframe tbody tr th {\n        vertical-align: top;\n    }\n\n    .dataframe thead th {\n        text-align: right;\n    }\n</style>\n<table border=\"1\" class=\"dataframe\">\n  <thead>\n    <tr style=\"text-align: right;\">\n      <th></th>\n      <th>ds</th>\n      <th>y</th>\n    </tr>\n  </thead>\n  <tbody>\n    <tr>\n      <th>742</th>\n      <td>2021-01-20</td>\n      <td>218.64</td>\n    </tr>\n    <tr>\n      <th>743</th>\n      <td>2021-01-21</td>\n      <td>188.88</td>\n    </tr>\n    <tr>\n      <th>744</th>\n      <td>2021-01-22</td>\n      <td>193.20</td>\n    </tr>\n    <tr>\n      <th>745</th>\n      <td>2021-01-24</td>\n      <td>123.12</td>\n    </tr>\n    <tr>\n      <th>746</th>\n      <td>2021-01-25</td>\n      <td>178.80</td>\n    </tr>\n  </tbody>\n</table>\n</div>"
     },
     "metadata": {},
     "execution_count": 68
    }
   ],
   "source": [
    "# 读取文件\n",
    "df = pd.read_excel('./clear.xlsx',encoding='utf-8',sheet_name=2)\n",
    "# df.rename(columns={'Sales':'y',\"Month\":'ds'},inplace=True)\n",
    "# 读取指定的行，我们只需要日期和电力总量\n",
    "# df.head()\n",
    "\n",
    "newdf = pd.DataFrame()\n",
    "newdf['ds'] = df['日期']\n",
    "newdf['y'] = df['用电总和']\n",
    "# 筛选掉0值\n",
    "# newdf = newdf[~newdf['y'].isin([0])]\n",
    "\n",
    "# 每一列*1000\n",
    "newdf['y'] = newdf['y'] * 1000\n",
    "# newdf.to_csv('./newdf.csv')\n",
    "newdf.tail(5)"
   ]
  },
  {
   "cell_type": "code",
   "execution_count": 135,
   "metadata": {},
   "outputs": [
    {
     "output_type": "stream",
     "name": "stderr",
     "text": [
      "INFO:fbprophet:Disabling yearly seasonality. Run prophet with yearly_seasonality=True to override this.\n",
      "INFO:fbprophet:Disabling daily seasonality. Run prophet with daily_seasonality=True to override this.\n",
      "747\n"
     ]
    },
    {
     "output_type": "execute_result",
     "data": {
      "text/plain": [
       "<fbprophet.forecaster.Prophet at 0x11bc91280>"
      ]
     },
     "metadata": {},
     "execution_count": 135
    }
   ],
   "source": [
    "# 切分数据集\n",
    "l = len(newdf)\n",
    "print(l)\n",
    "train_data = (newdf.loc[l-60:l-7,:,])\n",
    "test_data = (newdf.loc[l-7:,:])\n",
    "# print(train_data)\n",
    "# print(test_data)\n",
    "m = Prophet(interval_width=0.9,changepoint_range=0.9,growth = \"linear\")\n",
    "m.fit(train_data)\n",
    "\n",
    "# draw=pd.concat([pd.DataFrame(train_data['y'])],axis=1)\n",
    "# print(draw)\n",
    "# draw.iloc[:60-7,0].plot(figsize=(12,6),color=\"black\",label=\"train\")\n",
    "#draw.iloc[len(draw) - 7 :,1].plot(figsize=(12,6),color=\"red\",label=\"real\")\n",
    "#draw.iloc[:7,2].plot(figsize=(12,6),color=\"blue\",label=\"predict\")\n",
    "#plt.legend(('train', 'real','predict'),fontsize='15')\n",
    "#plt.title(\"train\",fontsize='30') #添加标题\n",
    "#展示在训练集上的表现 "
   ]
  },
  {
   "cell_type": "code",
   "execution_count": 138,
   "metadata": {},
   "outputs": [
    {
     "output_type": "stream",
     "name": "stdout",
     "text": [
      "154.87025854391342 184.32\nmse:  -0.1597750730039419\n154.32783514656865 193.2\nmse:  -0.20120168143598005\n153.7854117492239 218.64000000000001\nmse:  -0.2966272788637766\n153.2429883518791 188.88000000000002\nmse:  -0.18867541109763303\n152.70056495453431 193.20000000000002\nmse:  -0.20962440499723448\n152.15814155718954 123.11999999999996\nmse:  0.23585235182902523\n151.6157181598448 178.79999999999998\nmse:  -0.15203737047066665\n      y       y       trend\n58  NaN     NaN  154.870259\n59  NaN     NaN  154.327835\n60  NaN     NaN  153.785412\n61  NaN     NaN  153.242988\n62  NaN     NaN  152.700565\n..   ..     ...         ...\n742 NaN  218.64         NaN\n743 NaN  188.88         NaN\n744 NaN  193.20         NaN\n745 NaN  123.12         NaN\n746 NaN  178.80         NaN\n\n[67 rows x 3 columns]\n"
     ]
    }
   ],
   "source": [
    "# 数据预测，periods表示预测点数，freq表示预测频率\n",
    "future = m.make_future_dataframe(periods=11,freq='D') # 预测未来\n",
    "forecast = m.predict(future)\n",
    "# m.plot(forecast) # 绘制图形\n",
    "l = len(forecast)\n",
    "\n",
    "# print(forecast)\n",
    "forecast = forecast[['trend']].loc[l-7:,:]\n",
    "test_data = (test_data[['y']])\n",
    "\n",
    "# error\n",
    "f = np.array(forecast)\n",
    "t = np.array(test_data)\n",
    "for i in range(0,len(f)):\n",
    "    print(f[i][0],t[i][0])\n",
    "    print('mse: ' , (f[i][0] - t[i][0]) / t[i][0])\n",
    "\n",
    "\n",
    "draw=pd.concat([pd.DataFrame(train_data['y']),pd.DataFrame(test_data['y']),pd.DataFrame(forecast['trend'])],axis=1)\n",
    "t = draw[['trend']].shift(len(draw) - 7)\n",
    "draw = pd.concat([pd.DataFrame(train_data['y']),pd.DataFrame(test_data['y']),pd.DataFrame(draw['trend'])],axis=1)\n",
    "print(draw)\n",
    "# draw.iloc[:60-7,0].plot(figsize=(12,6),color=\"black\",label=\"train\")\n",
    "# draw.iloc[len(draw) - 7 :,1].plot(figsize=(12,6),color=\"red\",label=\"real\")\n",
    "# draw.iloc[:7,2].plot(figsize=(12,6),color=\"blue\",label=\"predict\")\n",
    "# plt.legend(('train', 'real','predict'),fontsize='15')\n",
    "# plt.title(\"train\",fontsize='30') #添加标题"
   ]
  },
  {
   "cell_type": "code",
   "execution_count": null,
   "metadata": {},
   "outputs": [],
   "source": []
  }
 ]
}